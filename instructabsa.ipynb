{
 "cells": [
  {
   "cell_type": "code",
   "execution_count": 1,
   "id": "61d40d8e-d9da-411a-9838-cdc4f50d141b",
   "metadata": {},
   "outputs": [
    {
     "data": {
      "text/plain": [
       "True"
      ]
     },
     "execution_count": 1,
     "metadata": {},
     "output_type": "execute_result"
    }
   ],
   "source": [
    "from textwrap import dedent\n",
    "from dotenv import load_dotenv\n",
    "\n",
    "load_dotenv()"
   ]
  },
  {
   "cell_type": "markdown",
   "id": "fa584926-3c70-4ae2-8494-0cca6025897f",
   "metadata": {},
   "source": [
    "# Data"
   ]
  },
  {
   "cell_type": "code",
   "execution_count": 2,
   "id": "6928f045-3a83-4f29-bbb9-128a1fd85e38",
   "metadata": {},
   "outputs": [],
   "source": [
    "from datasets import load_dataset\n",
    "\n",
    "dataset = load_dataset(\"yqzheng/semeval2014_restaurants\")"
   ]
  },
  {
   "cell_type": "code",
   "execution_count": 3,
   "id": "a6291b50-dcdd-4c8e-a238-85de1fea48b2",
   "metadata": {},
   "outputs": [
    {
     "data": {
      "text/plain": [
       "((3608, 5), (1120, 5))"
      ]
     },
     "execution_count": 3,
     "metadata": {},
     "output_type": "execute_result"
    }
   ],
   "source": [
    "import pandas as pd\n",
    "train = pd.DataFrame(dataset['train'])\n",
    "test = pd.DataFrame(dataset['test'])\n",
    "train.shape, test.shape"
   ]
  },
  {
   "cell_type": "code",
   "execution_count": 4,
   "id": "3f893569-b45f-4c3b-865f-9e200216fd87",
   "metadata": {},
   "outputs": [],
   "source": [
    "def merge_jsons(json_list):\n",
    "    result = {}\n",
    "    for j in json_list:\n",
    "        result.update(j)\n",
    "    return result\n",
    "\n",
    "def create_json(df):\n",
    "    df['json'] = df.apply(lambda row: {row['aspect']: row['label']} , axis=1)\n",
    "    return df.groupby('text')['json'].agg(merge_jsons).reset_index()"
   ]
  },
  {
   "cell_type": "code",
   "execution_count": 5,
   "id": "a04233f0-3f84-414f-b262-6a7c038baf19",
   "metadata": {},
   "outputs": [
    {
     "data": {
      "text/html": [
       "<div>\n",
       "<style scoped>\n",
       "    .dataframe tbody tr th:only-of-type {\n",
       "        vertical-align: middle;\n",
       "    }\n",
       "\n",
       "    .dataframe tbody tr th {\n",
       "        vertical-align: top;\n",
       "    }\n",
       "\n",
       "    .dataframe thead th {\n",
       "        text-align: right;\n",
       "    }\n",
       "</style>\n",
       "<table border=\"1\" class=\"dataframe\">\n",
       "  <thead>\n",
       "    <tr style=\"text-align: right;\">\n",
       "      <th></th>\n",
       "      <th>text</th>\n",
       "      <th>json</th>\n",
       "    </tr>\n",
       "  </thead>\n",
       "  <tbody>\n",
       "    <tr>\n",
       "      <th>0</th>\n",
       "      <td>$160 for 2 filets, 2 sides, an appetizer and d...</td>\n",
       "      <td>{'filets': 0, 'sides': 0, 'appetizer': 0, 'dri...</td>\n",
       "    </tr>\n",
       "    <tr>\n",
       "      <th>1</th>\n",
       "      <td>$20 for all you can eat sushi cannot be beaten.</td>\n",
       "      <td>{'sushi': 0}</td>\n",
       "    </tr>\n",
       "    <tr>\n",
       "      <th>2</th>\n",
       "      <td>$20 gets you unlimited sushi of a very high qu...</td>\n",
       "      <td>{'sushi': 1, 'sushi places': 1, 'quality': 1}</td>\n",
       "    </tr>\n",
       "    <tr>\n",
       "      <th>3</th>\n",
       "      <td>$6 and there is much tasty food, all of it fre...</td>\n",
       "      <td>{'food': 1}</td>\n",
       "    </tr>\n",
       "    <tr>\n",
       "      <th>4</th>\n",
       "      <td>($200 for 2 glasses of champagne, not too expe...</td>\n",
       "      <td>{'glasses of champagne': -1, 'bottle of wine':...</td>\n",
       "    </tr>\n",
       "    <tr>\n",
       "      <th>5</th>\n",
       "      <td>(Always ask the bartender for the SEASONAL bee...</td>\n",
       "      <td>{'SEASONAL beer': 1, 'bartender': 0}</td>\n",
       "    </tr>\n",
       "    <tr>\n",
       "      <th>6</th>\n",
       "      <td>(and I have eaten my share) Which impresses me...</td>\n",
       "      <td>{'serve': 1}</td>\n",
       "    </tr>\n",
       "    <tr>\n",
       "      <th>7</th>\n",
       "      <td>(food was delivered by a busboy, not waiter) W...</td>\n",
       "      <td>{'food': 0, 'busboy': -1, 'waiter': -1, 'chees...</td>\n",
       "    </tr>\n",
       "    <tr>\n",
       "      <th>8</th>\n",
       "      <td>- the bread at the beginning is super tasty an...</td>\n",
       "      <td>{'bread': 1, 'pizza': 1, 'margarite pizza with...</td>\n",
       "    </tr>\n",
       "    <tr>\n",
       "      <th>9</th>\n",
       "      <td>20 minutes for our reservation but it gave us ...</td>\n",
       "      <td>{'reservation': -1, 'cocktails': 1, 'surroundi...</td>\n",
       "    </tr>\n",
       "  </tbody>\n",
       "</table>\n",
       "</div>"
      ],
      "text/plain": [
       "                                                text  \\\n",
       "0  $160 for 2 filets, 2 sides, an appetizer and d...   \n",
       "1    $20 for all you can eat sushi cannot be beaten.   \n",
       "2  $20 gets you unlimited sushi of a very high qu...   \n",
       "3  $6 and there is much tasty food, all of it fre...   \n",
       "4  ($200 for 2 glasses of champagne, not too expe...   \n",
       "5  (Always ask the bartender for the SEASONAL bee...   \n",
       "6  (and I have eaten my share) Which impresses me...   \n",
       "7  (food was delivered by a busboy, not waiter) W...   \n",
       "8  - the bread at the beginning is super tasty an...   \n",
       "9  20 minutes for our reservation but it gave us ...   \n",
       "\n",
       "                                                json  \n",
       "0  {'filets': 0, 'sides': 0, 'appetizer': 0, 'dri...  \n",
       "1                                       {'sushi': 0}  \n",
       "2      {'sushi': 1, 'sushi places': 1, 'quality': 1}  \n",
       "3                                        {'food': 1}  \n",
       "4  {'glasses of champagne': -1, 'bottle of wine':...  \n",
       "5               {'SEASONAL beer': 1, 'bartender': 0}  \n",
       "6                                       {'serve': 1}  \n",
       "7  {'food': 0, 'busboy': -1, 'waiter': -1, 'chees...  \n",
       "8  {'bread': 1, 'pizza': 1, 'margarite pizza with...  \n",
       "9  {'reservation': -1, 'cocktails': 1, 'surroundi...  "
      ]
     },
     "execution_count": 5,
     "metadata": {},
     "output_type": "execute_result"
    }
   ],
   "source": [
    "train_json = create_json(train)\n",
    "test_json = create_json(test)\n",
    "train_json.head(10)"
   ]
  },
  {
   "cell_type": "markdown",
   "id": "976fcfc8-eb5e-4a4a-9ccc-1adf983f2ba9",
   "metadata": {},
   "source": [
    "# Model"
   ]
  },
  {
   "cell_type": "code",
   "execution_count": 6,
   "id": "1e7e78ad-e9f9-4bf6-a465-f2a9ebf4160d",
   "metadata": {},
   "outputs": [],
   "source": [
    "import os\n",
    "HF_API_TOKEN = os.getenv('HF_API_TOKEN')"
   ]
  },
  {
   "cell_type": "code",
   "execution_count": 7,
   "id": "8693b11d-f302-40f3-8aad-0fe3b38a775b",
   "metadata": {},
   "outputs": [],
   "source": [
    "import requests\n",
    "API_URL = \"https://api-inference.huggingface.co/models/kevinscaria/joint_tk-instruct-base-def-pos-neg-neut-restaurants\"\n",
    "headers = {\"Authorization\": f\"Bearer {HF_API_TOKEN}\"}\n",
    "def query(payload):\n",
    "    response = requests.post(API_URL, headers=headers, json=payload)\n",
    "    return response.json()"
   ]
  },
  {
   "cell_type": "markdown",
   "id": "15892130-7948-4506-ad3a-7959efa1a646",
   "metadata": {
    "jp-MarkdownHeadingCollapsed": true
   },
   "source": [
    "# Evaluation"
   ]
  },
  {
   "cell_type": "code",
   "execution_count": 8,
   "id": "19946856-bee2-4358-ae52-06493453aa3d",
   "metadata": {},
   "outputs": [],
   "source": [
    "def calc_f1(tp: int, fp: int, fn: int) -> float:\n",
    "    if tp + fp == 0: \n",
    "        precision = 0\n",
    "    else:\n",
    "        precision = tp / (tp + fp)\n",
    "    \n",
    "    if tp + fn == 0:\n",
    "        recall = 0\n",
    "    else:\n",
    "        recall = tp / (tp + fn)\n",
    "    \n",
    "    if precision + recall == 0:\n",
    "        f1_score = 0\n",
    "    else:\n",
    "        f1_score = 2.0 * (precision * recall) / (precision + recall)\n",
    "    return f1_score\n",
    "\n",
    "def validate_f1(example: dict, pred: dict) -> float:\n",
    "    tp = sum(1 for k, v in example.items() if pred.get(k) == v)\n",
    "    fp = sum(1 for k, v in pred.items() if example.get(k) != v)\n",
    "    fn = sum(1 for k, v in example.items() if k not in pred.keys())\n",
    "    return calc_f1(tp, fp, fn)"
   ]
  },
  {
   "cell_type": "markdown",
   "id": "d5251f0f-d6c6-4b1d-9e3b-facc31f6e910",
   "metadata": {
    "jp-MarkdownHeadingCollapsed": true
   },
   "source": [
    "# Original Prompt"
   ]
  },
  {
   "cell_type": "code",
   "execution_count": 9,
   "id": "0830a3ba-2544-43b3-b33e-1c730deef065",
   "metadata": {},
   "outputs": [],
   "source": [
    "orig_prompt_template = \"\"\"Definition: The output will be the aspects (both implicit and explicit) and the aspects sentiment polarity. In cases where there are no aspects the output should be noaspectterm:none.\n",
    "Positive example 1-\n",
    "input: With the great variety on the menu , I eat here often and never get bored.\n",
    "output: menu:positive\n",
    "Positive example 2- \n",
    "input: Great food, good size menu, great service and an unpretensious setting.\n",
    "output: food:positive, menu:positive, service:positive, setting:positive\n",
    "Negative example 1-\n",
    "input: They did not have mayonnaise, forgot our toast, left out ingredients (ie cheese in an omelet), below hot temperatures and the bacon was so over cooked it crumbled on the plate when you touched it.\n",
    "output: toast:negative, mayonnaise:negative, bacon:negative, ingredients:negative, plate:negative\n",
    "Negative example 2-\n",
    "input: The seats are uncomfortable if you are sitting against the wall on wooden benches.\n",
    "output: seats:negative\n",
    "Neutral example 1-\n",
    "input: I asked for seltzer with lime, no ice.\n",
    "output: seltzer with lime:neutral\n",
    "Neutral example 2-\n",
    "input: They wouldnt even let me finish my glass of wine before offering another.\n",
    "output: glass of wine:neutral\n",
    "Now complete the following example-\n",
    "input: {}\n",
    "output:\"\"\""
   ]
  },
  {
   "cell_type": "code",
   "execution_count": 10,
   "id": "f3099509-47c5-47a8-8287-9593bff74cf5",
   "metadata": {},
   "outputs": [
    {
     "data": {
      "text/plain": [
       "[{'generated_text': 'bread:positive'}]"
      ]
     },
     "execution_count": 10,
     "metadata": {},
     "output_type": "execute_result"
    }
   ],
   "source": [
    "res = query(orig_prompt_template.format(test.loc[0, 'text']))\n",
    "res"
   ]
  },
  {
   "cell_type": "code",
   "execution_count": 11,
   "id": "ae97ff49-ab58-468b-a3e3-2a0689b3308a",
   "metadata": {},
   "outputs": [],
   "source": [
    "def convert_sentiment(text):\n",
    "    if text == 'positive':\n",
    "        return 1\n",
    "    elif text == 'negative':\n",
    "        return -1\n",
    "    elif text == 'neutral':\n",
    "        return 0\n",
    "    else:\n",
    "        return None\n",
    "\n",
    "def convert_dict(res):\n",
    "    return {l.split(\":\")[0].strip(): convert_sentiment(l.split(\":\")[1].strip()) for l in res[0]['generated_text'].split(\",\") if ':' in l}"
   ]
  },
  {
   "cell_type": "code",
   "execution_count": 12,
   "id": "81085735-2eeb-4a99-8be1-5280e05c3072",
   "metadata": {
    "scrolled": true
   },
   "outputs": [
    {
     "name": "stdout",
     "output_type": "stream",
     "text": [
      "[{'generated_text': 'menu:positive, pub fare:positive, burgers:positive, steaks:'}]\n",
      "[{'generated_text': 'sashimi:negative'}]\n",
      "[{'generated_text': 'prices:positive'}]\n",
      "[{'generated_text': 'gratuity:neutral, bill:neutral'}]\n",
      "[{'generated_text': 'atmosphere:positive, drinks:positive, appetizers:positive'}]\n",
      "[{'generated_text': 'bar service:negative'}]\n",
      "[{'generated_text': 'treats:positive, prices:positive'}]\n",
      "[{'generated_text': 'space:positive, cuisine:positive, space:positive'}]\n",
      "[{'generated_text': 'outdoor eating area:positive, space:positive'}]\n",
      "[{'generated_text': 'utensils:negative, pie:neutral'}]\n",
      "[{'generated_text': 'music:positive, lounge:neutral'}]\n",
      "[{'generated_text': 'waiter:negative, kitchen:neutral, order:neutral'}]\n",
      "[{'generated_text': 'poori:positive, naan:positive, paratha:positive'}]\n",
      "[{'generated_text': 'apetizers:positive, Sangria:positive'}]\n",
      "[{'generated_text': 'toppings:positive, vegetables:positive, crust:positive'}]\n",
      "[{'generated_text': 'Big Mac:positive, Chicken McNuggets:positive, Filet-O-'}]\n",
      "[{'generated_text': 'Onion Rings:positive'}]\n",
      "[{'generated_text': 'chick peas with shrimp (appetizer):positive'}]\n",
      "[{'generated_text': 'staff:positive'}]\n",
      "[{'generated_text': 'food:positive, staff:positive'}]\n",
      "[{'generated_text': 'ambience:positive, food:positive, catfish:positive, service:positive'}]\n",
      "[{'generated_text': 'food:negative'}]\n",
      "[{'generated_text': 'servers:positive'}]\n",
      "[{'generated_text': 'food:positive'}]\n",
      "[{'generated_text': 'food:positive, food:positive'}]\n",
      "[{'generated_text': 'burgers:positive, patties:positive'}]\n",
      "[{'generated_text': 'honey BBQ rib tips:positive'}]\n",
      "[{'generated_text': 'parmesan cheese:neutral'}]\n",
      "[{'generated_text': 'sushi:positive, portions:positive, price:positive'}]\n",
      "[{'generated_text': 'owner:negative'}]\n",
      "[{'generated_text': 'prices:negative'}]\n",
      "[{'generated_text': 'Appetizer:positive, meal:positive'}]\n",
      "[{'generated_text': 'round corner table:positive, window:positive'}]\n",
      "[{'generated_text': 'atmoshere:positive'}]\n",
      "[{'generated_text': 'tables:negative'}]\n",
      "[{'generated_text': 'Atmosphere:negative'}]\n",
      "[{'generated_text': 'cake:negative'}]\n",
      "[{'generated_text': 'spicy tuna roll:positive, asian salad:positive'}]\n",
      "[{'generated_text': 'service:positive'}]\n",
      "[{'generated_text': 'food:positive, juice concoctions:positive'}]\n",
      "[{'generated_text': 'Smoked Trout:positive, Lamb Chops:positive, Veal Chop'}]\n",
      "[{'generated_text': 'pizza:positive'}]\n",
      "[{'generated_text': 'flan:positive'}]\n",
      "[{'generated_text': 'delivery:positive, value:positive'}]\n",
      "[{'generated_text': 'Indian food:positive'}]\n",
      "[{'generated_text': 'hot dogs:positive'}]\n",
      "[{'generated_text': 'grill:positive, Chirrasco:positive, Ribs:positive'}]\n",
      "[{'generated_text': 'menu:positive'}]\n",
      "[{'generated_text': 'chili signed food items:negative'}]\n",
      "[{'generated_text': 'appetizer:positive, pasta specials:positive'}]\n",
      "[{'generated_text': 'bottle of wine:positive'}]\n",
      "[{'generated_text': \"Amazin' Greens salads:positive, Buffalo Chicken Kickers:positive, Cin\"}]\n",
      "[{'generated_text': 'dinner:positive, prices:negative'}]\n",
      "[{'generated_text': 'bill:negative'}]\n",
      "[{'generated_text': 'sandwiches:positive'}]\n",
      "[{'generated_text': 'meals:negative'}]\n",
      "[{'generated_text': 'size:negative'}]\n",
      "[{'generated_text': 'falafel:positive, tabouleh:positive, humus:positive,'}]\n",
      "[{'generated_text': 'sushi:positive, place:positive'}]\n",
      "[{'generated_text': 'Chef:positive'}]\n",
      "[{'generated_text': 'noaspectterm:none'}]\n",
      "[{'generated_text': 'quality:positive, prices:positive'}]\n",
      "[{'generated_text': 'Coffee:positive, Cosi sandwiches:positive'}]\n",
      "[{'generated_text': 'atmosphere:negative'}]\n",
      "[{'generated_text': 'price:negative'}]\n",
      "[{'generated_text': 'appetizers:positive, taramasalata:positive, eggplant salad:positive, Greek'}]\n",
      "[{'generated_text': 'dishes:positive, king crab salad with passion fruit vinaigrette:positive'}]\n",
      "[{'generated_text': 'Cuisine:negative, bill:negative'}]\n",
      "[{'generated_text': 'calamari:positive, pasta:positive, Sliced steak entree:positive'}]\n",
      "[{'generated_text': 'taglierini with truffles:positive'}]\n",
      "[{'generated_text': 'Dessert:positive'}]\n",
      "[{'generated_text': 'Desserts:positive, Tart of the Day:positive'}]\n",
      "[{'generated_text': 'Desserts:neutral, flan:neutral, sopaipillas:'}]\n",
      "[{'generated_text': 'coffee:positive'}]\n",
      "[{'generated_text': 'display:negative, quality:negative, food:negative'}]\n",
      "[{'generated_text': 'salads:neutral, vegetarian platters:neutral'}]\n",
      "[{'generated_text': 'Saketini:negative, bar menu:negative'}]\n",
      "[{'generated_text': 'Dishes denoted as \"Roy\\'s Classics\" (marked on'}]\n",
      "[{'generated_text': 'drinks:negative, people:negative'}]\n",
      "[{'generated_text': 'bar area:negative'}]\n",
      "[{'generated_text': 'pizza:positive'}]\n",
      "[{'generated_text': 'Entrees:positive, lasagna:positive, fettuccine Alfredo:positive'}]\n",
      "[{'generated_text': 'food:positive'}]\n",
      "[{'generated_text': 'chef:positive, food:positive, service:positive'}]\n",
      "[{'generated_text': 'host:positive, bartender:positive, servers:positive'}]\n",
      "[{'generated_text': 'bathroom:positive'}]\n",
      "[{'generated_text': 'eggs benedict:positive, mussels:positive, hamburger:positive'}]\n",
      "[{'generated_text': 'menu:positive, eat:positive'}]\n",
      "[{'generated_text': 'potato spinach gnocchi:positive, lamb:positive'}]\n",
      "[{'generated_text': 'curry:positive'}]\n",
      "[{'generated_text': 'staff:negative, slices:negative'}]\n",
      "[{'generated_text': 'service:negative, smirks:negative, back talk:negative'}]\n",
      "[{'generated_text': 'ambience:positive'}]\n",
      "[{'generated_text': 'Food:positive'}]\n",
      "[{'generated_text': 'Food:positive, empenadas:positive, plaintains:positive'}]\n",
      "[{'generated_text': 'Food:positive, price:positive'}]\n",
      "[{'generated_text': 'Food portion:negative'}]\n",
      "[{'generated_text': 'Food:negative'}]\n",
      "[{'generated_text': 'soup:positive, sandwich meal:positive, hot and sour soup:positive'}]\n",
      "[{'generated_text': 'Indian food:positive'}]\n"
     ]
    },
    {
     "data": {
      "text/plain": [
       "0.7375714285714285"
      ]
     },
     "execution_count": 12,
     "metadata": {},
     "output_type": "execute_result"
    }
   ],
   "source": [
    "f1s = []\n",
    "for _, row in test_json.iloc[:100].iterrows():\n",
    "    res = query(orig_prompt_template.format(row['text']))\n",
    "    pred = convert_dict(res)\n",
    "    f1 = validate_f1(row['json'], pred)\n",
    "    f1s.append(f1)\n",
    "sum(f1s) / len(f1s)"
   ]
  },
  {
   "cell_type": "markdown",
   "id": "49656720-5480-458d-b976-b1d1fa7da303",
   "metadata": {},
   "source": [
    "# DSPY"
   ]
  },
  {
   "cell_type": "code",
   "execution_count": null,
   "id": "559433cb-ba2f-4ebe-8393-27ad26ee5bb5",
   "metadata": {},
   "outputs": [],
   "source": []
  },
  {
   "cell_type": "code",
   "execution_count": null,
   "id": "9e3f2f3b-13bb-4763-8645-f1aaa8ed5c3f",
   "metadata": {},
   "outputs": [],
   "source": []
  }
 ],
 "metadata": {
  "kernelspec": {
   "display_name": "Python 3 (ipykernel)",
   "language": "python",
   "name": "python3"
  },
  "language_info": {
   "codemirror_mode": {
    "name": "ipython",
    "version": 3
   },
   "file_extension": ".py",
   "mimetype": "text/x-python",
   "name": "python",
   "nbconvert_exporter": "python",
   "pygments_lexer": "ipython3",
   "version": "3.11.7"
  }
 },
 "nbformat": 4,
 "nbformat_minor": 5
}
