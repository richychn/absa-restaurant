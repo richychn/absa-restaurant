{
 "cells": [
  {
   "cell_type": "code",
   "execution_count": 3,
   "id": "61d40d8e-d9da-411a-9838-cdc4f50d141b",
   "metadata": {},
   "outputs": [
    {
     "data": {
      "text/plain": [
       "True"
      ]
     },
     "execution_count": 3,
     "metadata": {},
     "output_type": "execute_result"
    }
   ],
   "source": [
    "from textwrap import dedent\n",
    "from dotenv import load_dotenv\n",
    "\n",
    "load_dotenv()"
   ]
  },
  {
   "cell_type": "code",
   "execution_count": 8,
   "id": "1e7e78ad-e9f9-4bf6-a465-f2a9ebf4160d",
   "metadata": {},
   "outputs": [],
   "source": [
    "import os\n",
    "HF_API_TOKEN = os.getenv('HF_API_TOKEN')"
   ]
  },
  {
   "cell_type": "markdown",
   "id": "fa584926-3c70-4ae2-8494-0cca6025897f",
   "metadata": {},
   "source": [
    "# Data"
   ]
  },
  {
   "cell_type": "code",
   "execution_count": 4,
   "id": "6928f045-3a83-4f29-bbb9-128a1fd85e38",
   "metadata": {},
   "outputs": [],
   "source": [
    "from datasets import load_dataset\n",
    "\n",
    "dataset = load_dataset(\"yqzheng/semeval2014_restaurants\")"
   ]
  },
  {
   "cell_type": "code",
   "execution_count": 5,
   "id": "a6291b50-dcdd-4c8e-a238-85de1fea48b2",
   "metadata": {},
   "outputs": [
    {
     "data": {
      "text/plain": [
       "((3608, 5), (1120, 5))"
      ]
     },
     "execution_count": 5,
     "metadata": {},
     "output_type": "execute_result"
    }
   ],
   "source": [
    "import pandas as pd\n",
    "train = pd.DataFrame(dataset['train'])\n",
    "test = pd.DataFrame(dataset['test'])\n",
    "train.shape, test.shape"
   ]
  },
  {
   "cell_type": "code",
   "execution_count": 6,
   "id": "3f893569-b45f-4c3b-865f-9e200216fd87",
   "metadata": {},
   "outputs": [],
   "source": [
    "def merge_jsons(json_list):\n",
    "    result = {}\n",
    "    for j in json_list:\n",
    "        result.update(j)\n",
    "    return result\n",
    "\n",
    "def create_json(df):\n",
    "    df['json'] = df.apply(lambda row: {row['aspect']: row['label']} , axis=1)\n",
    "    return df.groupby('text')['json'].agg(merge_jsons).reset_index()"
   ]
  },
  {
   "cell_type": "code",
   "execution_count": 7,
   "id": "a04233f0-3f84-414f-b262-6a7c038baf19",
   "metadata": {},
   "outputs": [
    {
     "data": {
      "text/html": [
       "<div>\n",
       "<style scoped>\n",
       "    .dataframe tbody tr th:only-of-type {\n",
       "        vertical-align: middle;\n",
       "    }\n",
       "\n",
       "    .dataframe tbody tr th {\n",
       "        vertical-align: top;\n",
       "    }\n",
       "\n",
       "    .dataframe thead th {\n",
       "        text-align: right;\n",
       "    }\n",
       "</style>\n",
       "<table border=\"1\" class=\"dataframe\">\n",
       "  <thead>\n",
       "    <tr style=\"text-align: right;\">\n",
       "      <th></th>\n",
       "      <th>text</th>\n",
       "      <th>json</th>\n",
       "    </tr>\n",
       "  </thead>\n",
       "  <tbody>\n",
       "    <tr>\n",
       "      <th>0</th>\n",
       "      <td>$160 for 2 filets, 2 sides, an appetizer and d...</td>\n",
       "      <td>{'filets': 0, 'sides': 0, 'appetizer': 0, 'dri...</td>\n",
       "    </tr>\n",
       "    <tr>\n",
       "      <th>1</th>\n",
       "      <td>$20 for all you can eat sushi cannot be beaten.</td>\n",
       "      <td>{'sushi': 0}</td>\n",
       "    </tr>\n",
       "    <tr>\n",
       "      <th>2</th>\n",
       "      <td>$20 gets you unlimited sushi of a very high qu...</td>\n",
       "      <td>{'sushi': 1, 'sushi places': 1, 'quality': 1}</td>\n",
       "    </tr>\n",
       "    <tr>\n",
       "      <th>3</th>\n",
       "      <td>$6 and there is much tasty food, all of it fre...</td>\n",
       "      <td>{'food': 1}</td>\n",
       "    </tr>\n",
       "    <tr>\n",
       "      <th>4</th>\n",
       "      <td>($200 for 2 glasses of champagne, not too expe...</td>\n",
       "      <td>{'glasses of champagne': -1, 'bottle of wine':...</td>\n",
       "    </tr>\n",
       "    <tr>\n",
       "      <th>5</th>\n",
       "      <td>(Always ask the bartender for the SEASONAL bee...</td>\n",
       "      <td>{'SEASONAL beer': 1, 'bartender': 0}</td>\n",
       "    </tr>\n",
       "    <tr>\n",
       "      <th>6</th>\n",
       "      <td>(and I have eaten my share) Which impresses me...</td>\n",
       "      <td>{'serve': 1}</td>\n",
       "    </tr>\n",
       "    <tr>\n",
       "      <th>7</th>\n",
       "      <td>(food was delivered by a busboy, not waiter) W...</td>\n",
       "      <td>{'food': 0, 'busboy': -1, 'waiter': -1, 'chees...</td>\n",
       "    </tr>\n",
       "    <tr>\n",
       "      <th>8</th>\n",
       "      <td>- the bread at the beginning is super tasty an...</td>\n",
       "      <td>{'bread': 1, 'pizza': 1, 'margarite pizza with...</td>\n",
       "    </tr>\n",
       "    <tr>\n",
       "      <th>9</th>\n",
       "      <td>20 minutes for our reservation but it gave us ...</td>\n",
       "      <td>{'reservation': -1, 'cocktails': 1, 'surroundi...</td>\n",
       "    </tr>\n",
       "  </tbody>\n",
       "</table>\n",
       "</div>"
      ],
      "text/plain": [
       "                                                text  \\\n",
       "0  $160 for 2 filets, 2 sides, an appetizer and d...   \n",
       "1    $20 for all you can eat sushi cannot be beaten.   \n",
       "2  $20 gets you unlimited sushi of a very high qu...   \n",
       "3  $6 and there is much tasty food, all of it fre...   \n",
       "4  ($200 for 2 glasses of champagne, not too expe...   \n",
       "5  (Always ask the bartender for the SEASONAL bee...   \n",
       "6  (and I have eaten my share) Which impresses me...   \n",
       "7  (food was delivered by a busboy, not waiter) W...   \n",
       "8  - the bread at the beginning is super tasty an...   \n",
       "9  20 minutes for our reservation but it gave us ...   \n",
       "\n",
       "                                                json  \n",
       "0  {'filets': 0, 'sides': 0, 'appetizer': 0, 'dri...  \n",
       "1                                       {'sushi': 0}  \n",
       "2      {'sushi': 1, 'sushi places': 1, 'quality': 1}  \n",
       "3                                        {'food': 1}  \n",
       "4  {'glasses of champagne': -1, 'bottle of wine':...  \n",
       "5               {'SEASONAL beer': 1, 'bartender': 0}  \n",
       "6                                       {'serve': 1}  \n",
       "7  {'food': 0, 'busboy': -1, 'waiter': -1, 'chees...  \n",
       "8  {'bread': 1, 'pizza': 1, 'margarite pizza with...  \n",
       "9  {'reservation': -1, 'cocktails': 1, 'surroundi...  "
      ]
     },
     "execution_count": 7,
     "metadata": {},
     "output_type": "execute_result"
    }
   ],
   "source": [
    "train_json = create_json(train)\n",
    "test_json = create_json(test)\n",
    "train_json.head(10)"
   ]
  },
  {
   "cell_type": "markdown",
   "id": "15892130-7948-4506-ad3a-7959efa1a646",
   "metadata": {
    "jp-MarkdownHeadingCollapsed": true
   },
   "source": [
    "# Evaluation"
   ]
  },
  {
   "cell_type": "code",
   "execution_count": 11,
   "id": "19946856-bee2-4358-ae52-06493453aa3d",
   "metadata": {},
   "outputs": [],
   "source": [
    "def calc_f1(tp: int, fp: int, fn: int) -> float:\n",
    "    if tp + fp == 0: \n",
    "        precision = 0\n",
    "    else:\n",
    "        precision = tp / (tp + fp)\n",
    "    \n",
    "    if tp + fn == 0:\n",
    "        recall = 0\n",
    "    else:\n",
    "        recall = tp / (tp + fn)\n",
    "    \n",
    "    if precision + recall == 0:\n",
    "        f1_score = 0\n",
    "    else:\n",
    "        f1_score = 2.0 * (precision * recall) / (precision + recall)\n",
    "    return f1_score\n",
    "\n",
    "def validate_f1(example: dict, pred: dict) -> float:\n",
    "    tp = sum(1 for k, v in example.items() if pred.get(k) == v)\n",
    "    fp = sum(1 for k, v in pred.items() if example.get(k) != v)\n",
    "    fn = sum(1 for k, v in example.items() if k not in pred.keys())\n",
    "    return calc_f1(tp, fp, fn)"
   ]
  },
  {
   "cell_type": "markdown",
   "id": "d5251f0f-d6c6-4b1d-9e3b-facc31f6e910",
   "metadata": {},
   "source": [
    "# Original Prompt"
   ]
  },
  {
   "cell_type": "code",
   "execution_count": 9,
   "id": "8693b11d-f302-40f3-8aad-0fe3b38a775b",
   "metadata": {},
   "outputs": [],
   "source": [
    "import requests\n",
    "API_URL = \"https://api-inference.huggingface.co/models/kevinscaria/joint_tk-instruct-base-def-pos-neg-neut-restaurants\"\n",
    "headers = {\"Authorization\": f\"Bearer {HF_API_TOKEN}\"}\n",
    "def query(prompt):\n",
    "    payload = {\n",
    "        \"inputs\": prompt,\n",
    "        \"options\": {\"wait_for_model\": True}\n",
    "    }\n",
    "    response = requests.post(API_URL, headers=headers, json=payload)\n",
    "    return response.json()"
   ]
  },
  {
   "cell_type": "code",
   "execution_count": 12,
   "id": "0830a3ba-2544-43b3-b33e-1c730deef065",
   "metadata": {},
   "outputs": [],
   "source": [
    "orig_prompt_template = \"\"\"Definition: The output will be the aspects (both implicit and explicit) and the aspects sentiment polarity. In cases where there are no aspects the output should be noaspectterm:none.\n",
    "Positive example 1-\n",
    "input: With the great variety on the menu , I eat here often and never get bored.\n",
    "output: menu:positive\n",
    "Positive example 2- \n",
    "input: Great food, good size menu, great service and an unpretensious setting.\n",
    "output: food:positive, menu:positive, service:positive, setting:positive\n",
    "Negative example 1-\n",
    "input: They did not have mayonnaise, forgot our toast, left out ingredients (ie cheese in an omelet), below hot temperatures and the bacon was so over cooked it crumbled on the plate when you touched it.\n",
    "output: toast:negative, mayonnaise:negative, bacon:negative, ingredients:negative, plate:negative\n",
    "Negative example 2-\n",
    "input: The seats are uncomfortable if you are sitting against the wall on wooden benches.\n",
    "output: seats:negative\n",
    "Neutral example 1-\n",
    "input: I asked for seltzer with lime, no ice.\n",
    "output: seltzer with lime:neutral\n",
    "Neutral example 2-\n",
    "input: They wouldnt even let me finish my glass of wine before offering another.\n",
    "output: glass of wine:neutral\n",
    "Now complete the following example-\n",
    "input: {}\n",
    "output:\"\"\""
   ]
  },
  {
   "cell_type": "code",
   "execution_count": 13,
   "id": "f3099509-47c5-47a8-8287-9593bff74cf5",
   "metadata": {},
   "outputs": [
    {
     "data": {
      "text/plain": [
       "[{'generated_text': 'bread:positive'}]"
      ]
     },
     "execution_count": 13,
     "metadata": {},
     "output_type": "execute_result"
    }
   ],
   "source": [
    "res = query(orig_prompt_template.format(test.loc[0, 'text']))\n",
    "res"
   ]
  },
  {
   "cell_type": "code",
   "execution_count": 14,
   "id": "ae97ff49-ab58-468b-a3e3-2a0689b3308a",
   "metadata": {},
   "outputs": [],
   "source": [
    "def convert_sentiment(text):\n",
    "    if text == 'positive':\n",
    "        return 1\n",
    "    elif text == 'negative':\n",
    "        return -1\n",
    "    elif text == 'neutral':\n",
    "        return 0\n",
    "    else:\n",
    "        return None\n",
    "\n",
    "def convert_dict(res):\n",
    "    return {l.split(\":\")[0].strip(): convert_sentiment(l.split(\":\")[1].strip()) for l in res[0]['generated_text'].split(\",\") if ':' in l}"
   ]
  },
  {
   "cell_type": "code",
   "execution_count": 15,
   "id": "81085735-2eeb-4a99-8be1-5280e05c3072",
   "metadata": {
    "scrolled": true
   },
   "outputs": [
    {
     "data": {
      "text/plain": [
       "0.7375714285714285"
      ]
     },
     "execution_count": 15,
     "metadata": {},
     "output_type": "execute_result"
    }
   ],
   "source": [
    "f1s = []\n",
    "for _, row in test_json.iloc[:100].iterrows():\n",
    "    res = query(orig_prompt_template.format(row['text']))\n",
    "    pred = convert_dict(res)\n",
    "    f1 = validate_f1(row['json'], pred)\n",
    "    f1s.append(f1)\n",
    "sum(f1s) / len(f1s)"
   ]
  },
  {
   "cell_type": "markdown",
   "id": "49656720-5480-458d-b976-b1d1fa7da303",
   "metadata": {},
   "source": [
    "# Normal DSPy"
   ]
  },
  {
   "cell_type": "code",
   "execution_count": 16,
   "id": "9e3f2f3b-13bb-4763-8645-f1aaa8ed5c3f",
   "metadata": {},
   "outputs": [],
   "source": [
    "train_dspy = [dspy.Example(review=row['text'], aspect_with_label=row['json']).with_inputs('review') for _, row in train_json.iterrows()]\n",
    "test_dspy = [dspy.Example(review=row['text'], aspect_with_label=row['json']).with_inputs('review') for _, row in test_json.iterrows()]"
   ]
  },
  {
   "cell_type": "code",
   "execution_count": 17,
   "id": "cbd9636f-fa58-454d-affc-f50388a9eb98",
   "metadata": {},
   "outputs": [],
   "source": [
    "import dspy\n",
    "import os\n",
    "import requests\n",
    "\n",
    "class HFServerless(dspy.dsp.modules.LM):\n",
    "    def __init__(\n",
    "        self,\n",
    "        model: str,\n",
    "        api_key: str,\n",
    "        **kwargs):\n",
    "        \"\"\"\n",
    "        Wrapper around HuggingFace's Inference API (Serverless)\n",
    "        \"\"\"\n",
    "        super().__init__(model)\n",
    "        self.api_url = \"https://api-inference.huggingface.co/models/\" + model\n",
    "        self.api_key = api_key\n",
    "    \n",
    "    def basic_request(self, prompt, **kwargs):\n",
    "        headers = {\"Authorization\": f\"Bearer {self.api_key}\"}\n",
    "        payload = {\n",
    "            \"inputs\": prompt,\n",
    "            \"options\": {\"wait_for_model\": True}\n",
    "        }\n",
    "        response = requests.post(self.api_url, headers=headers, json=payload)\n",
    "        response.raise_for_status()\n",
    "        response_text = response.json()[0]['generated_text']\n",
    "\n",
    "        self.history.append(\n",
    "            {\n",
    "                \"prompt\": prompt,\n",
    "                \"response\": {\n",
    "                    \"choices\": [{'text': response_text}]\n",
    "                }\n",
    "            }\n",
    "        )\n",
    "        \n",
    "        return response.json()\n",
    "\n",
    "    def __call__(self, prompt, only_completed=True, return_sorted=False, **kwargs):\n",
    "        response = self.request(prompt, **kwargs)\n",
    "        return [response[0]['generated_text']]\n",
    "\n",
    "hf = HFServerless(model=\"kevinscaria/joint_tk-instruct-base-def-pos-neg-neut-restaurants\", api_key=os.getenv('HF_API_TOKEN'))\n",
    "dspy.settings.configure(lm=hf)"
   ]
  },
  {
   "cell_type": "code",
   "execution_count": 49,
   "id": "ca240f16-bdcc-4ac3-9d17-f8908db9cbd7",
   "metadata": {},
   "outputs": [],
   "source": [
    "class Review2Aspects(dspy.Signature):\n",
    "    \"\"\"\n",
    "    Identify aspects and their sentiments from a customer review. The aspects must be words or phrases in the review.\n",
    "    The response should be a Python dictionary, where each key is an aspect and the value is a sentiment label.\n",
    "    A label of 1 indicates positive sentiment, 0 indicates neutral sentiment, and -1 indicates negative sentiment.\n",
    "    \"\"\"\n",
    "\n",
    "    review: str = dspy.InputField(desc=\"a customer review\")\n",
    "    aspects_with_label: dict = dspy.OutputField(format=dict, desc=dedent(\"\"\"\n",
    "        a single Python dictionary, where each key is an aspect and the value is the label,\n",
    "        with label 1 indicating positive sentiment, 0 indicating neutral sentiment, and -1\n",
    "        indicating negative sentiment.\n",
    "        \"\"\"))"
   ]
  },
  {
   "cell_type": "code",
   "execution_count": 50,
   "id": "0a0e0e3e-1ef2-453e-817a-c4c3c0312541",
   "metadata": {},
   "outputs": [],
   "source": [
    "class DSPyInstructABSA(dspy.Module):\n",
    "    def __init__(self):\n",
    "        super().__init__()\n",
    "        self.generate_aspects = dspy.ChainOfThought(Review2Aspects)\n",
    "\n",
    "    def forward(self, review):\n",
    "        pred = self.generate_aspects(review=review)\n",
    "        return dspy.Prediction(aspects_with_label=pred.aspects_with_label)"
   ]
  },
  {
   "cell_type": "code",
   "execution_count": 51,
   "id": "4cc1ce35-2925-466b-b16b-795ca77cb49c",
   "metadata": {},
   "outputs": [],
   "source": [
    "uncompiled = DSPyInstructABSA()"
   ]
  },
  {
   "cell_type": "code",
   "execution_count": 52,
   "id": "5a2b2c61-fdba-4bac-a719-7f069921ff69",
   "metadata": {
    "scrolled": true
   },
   "outputs": [
    {
     "ename": "ValueError",
     "evalue": "dictionary update sequence element #0 has length 1; 2 is required",
     "output_type": "error",
     "traceback": [
      "\u001b[0;31m---------------------------------------------------------------------------\u001b[0m",
      "\u001b[0;31mValueError\u001b[0m                                Traceback (most recent call last)",
      "Cell \u001b[0;32mIn[52], line 1\u001b[0m\n\u001b[0;32m----> 1\u001b[0m pred \u001b[38;5;241m=\u001b[39m \u001b[43muncompiled\u001b[49m\u001b[43m(\u001b[49m\u001b[43mtest_dspy\u001b[49m\u001b[43m[\u001b[49m\u001b[38;5;241;43m0\u001b[39;49m\u001b[43m]\u001b[49m\u001b[38;5;241;43m.\u001b[39;49m\u001b[43mreview\u001b[49m\u001b[43m)\u001b[49m\n",
      "File \u001b[0;32m~/.pyenv/versions/3.11.7/envs/llm/lib/python3.11/site-packages/dspy/primitives/program.py:26\u001b[0m, in \u001b[0;36mModule.__call__\u001b[0;34m(self, *args, **kwargs)\u001b[0m\n\u001b[1;32m     25\u001b[0m \u001b[38;5;28;01mdef\u001b[39;00m \u001b[38;5;21m__call__\u001b[39m(\u001b[38;5;28mself\u001b[39m, \u001b[38;5;241m*\u001b[39margs, \u001b[38;5;241m*\u001b[39m\u001b[38;5;241m*\u001b[39mkwargs):\n\u001b[0;32m---> 26\u001b[0m     \u001b[38;5;28;01mreturn\u001b[39;00m \u001b[38;5;28;43mself\u001b[39;49m\u001b[38;5;241;43m.\u001b[39;49m\u001b[43mforward\u001b[49m\u001b[43m(\u001b[49m\u001b[38;5;241;43m*\u001b[39;49m\u001b[43margs\u001b[49m\u001b[43m,\u001b[49m\u001b[43m \u001b[49m\u001b[38;5;241;43m*\u001b[39;49m\u001b[38;5;241;43m*\u001b[39;49m\u001b[43mkwargs\u001b[49m\u001b[43m)\u001b[49m\n",
      "Cell \u001b[0;32mIn[50], line 7\u001b[0m, in \u001b[0;36mDSPyInstructABSA.forward\u001b[0;34m(self, review)\u001b[0m\n\u001b[1;32m      6\u001b[0m \u001b[38;5;28;01mdef\u001b[39;00m \u001b[38;5;21mforward\u001b[39m(\u001b[38;5;28mself\u001b[39m, review):\n\u001b[0;32m----> 7\u001b[0m     pred \u001b[38;5;241m=\u001b[39m \u001b[38;5;28;43mself\u001b[39;49m\u001b[38;5;241;43m.\u001b[39;49m\u001b[43mgenerate_aspects\u001b[49m\u001b[43m(\u001b[49m\u001b[43mreview\u001b[49m\u001b[38;5;241;43m=\u001b[39;49m\u001b[43mreview\u001b[49m\u001b[43m)\u001b[49m\n\u001b[1;32m      8\u001b[0m     \u001b[38;5;28;01mreturn\u001b[39;00m dspy\u001b[38;5;241m.\u001b[39mPrediction(aspects_with_label\u001b[38;5;241m=\u001b[39mpred\u001b[38;5;241m.\u001b[39maspects_with_label)\n",
      "File \u001b[0;32m~/.pyenv/versions/3.11.7/envs/llm/lib/python3.11/site-packages/dspy/predict/predict.py:49\u001b[0m, in \u001b[0;36mPredict.__call__\u001b[0;34m(self, **kwargs)\u001b[0m\n\u001b[1;32m     48\u001b[0m \u001b[38;5;28;01mdef\u001b[39;00m \u001b[38;5;21m__call__\u001b[39m(\u001b[38;5;28mself\u001b[39m, \u001b[38;5;241m*\u001b[39m\u001b[38;5;241m*\u001b[39mkwargs):\n\u001b[0;32m---> 49\u001b[0m     \u001b[38;5;28;01mreturn\u001b[39;00m \u001b[38;5;28;43mself\u001b[39;49m\u001b[38;5;241;43m.\u001b[39;49m\u001b[43mforward\u001b[49m\u001b[43m(\u001b[49m\u001b[38;5;241;43m*\u001b[39;49m\u001b[38;5;241;43m*\u001b[39;49m\u001b[43mkwargs\u001b[49m\u001b[43m)\u001b[49m\n",
      "File \u001b[0;32m~/.pyenv/versions/3.11.7/envs/llm/lib/python3.11/site-packages/dspy/predict/chain_of_thought.py:59\u001b[0m, in \u001b[0;36mChainOfThought.forward\u001b[0;34m(self, **kwargs)\u001b[0m\n\u001b[1;32m     57\u001b[0m     signature \u001b[38;5;241m=\u001b[39m new_signature\n\u001b[1;32m     58\u001b[0m     \u001b[38;5;66;03m# template = dsp.Template(self.signature.instructions, **new_signature)\u001b[39;00m\n\u001b[0;32m---> 59\u001b[0m \u001b[38;5;28;01mreturn\u001b[39;00m \u001b[38;5;28;43msuper\u001b[39;49m\u001b[43m(\u001b[49m\u001b[43m)\u001b[49m\u001b[38;5;241;43m.\u001b[39;49m\u001b[43mforward\u001b[49m\u001b[43m(\u001b[49m\u001b[43msignature\u001b[49m\u001b[38;5;241;43m=\u001b[39;49m\u001b[43msignature\u001b[49m\u001b[43m,\u001b[49m\u001b[43m \u001b[49m\u001b[38;5;241;43m*\u001b[39;49m\u001b[38;5;241;43m*\u001b[39;49m\u001b[43mkwargs\u001b[49m\u001b[43m)\u001b[49m\n",
      "File \u001b[0;32m~/.pyenv/versions/3.11.7/envs/llm/lib/python3.11/site-packages/dspy/predict/predict.py:91\u001b[0m, in \u001b[0;36mPredict.forward\u001b[0;34m(self, **kwargs)\u001b[0m\n\u001b[1;32m     88\u001b[0m template \u001b[38;5;241m=\u001b[39m signature_to_template(signature)\n\u001b[1;32m     90\u001b[0m \u001b[38;5;28;01mif\u001b[39;00m \u001b[38;5;28mself\u001b[39m\u001b[38;5;241m.\u001b[39mlm \u001b[38;5;129;01mis\u001b[39;00m \u001b[38;5;28;01mNone\u001b[39;00m:\n\u001b[0;32m---> 91\u001b[0m     x, C \u001b[38;5;241m=\u001b[39m \u001b[43mdsp\u001b[49m\u001b[38;5;241;43m.\u001b[39;49m\u001b[43mgenerate\u001b[49m\u001b[43m(\u001b[49m\u001b[43mtemplate\u001b[49m\u001b[43m,\u001b[49m\u001b[43m \u001b[49m\u001b[38;5;241;43m*\u001b[39;49m\u001b[38;5;241;43m*\u001b[39;49m\u001b[43mconfig\u001b[49m\u001b[43m)\u001b[49m\u001b[43m(\u001b[49m\u001b[43mx\u001b[49m\u001b[43m,\u001b[49m\u001b[43m \u001b[49m\u001b[43mstage\u001b[49m\u001b[38;5;241;43m=\u001b[39;49m\u001b[38;5;28;43mself\u001b[39;49m\u001b[38;5;241;43m.\u001b[39;49m\u001b[43mstage\u001b[49m\u001b[43m)\u001b[49m\n\u001b[1;32m     92\u001b[0m \u001b[38;5;28;01melse\u001b[39;00m:\n\u001b[1;32m     93\u001b[0m     \u001b[38;5;66;03m# Note: query_only=True means the instructions and examples are not included.\u001b[39;00m\n\u001b[1;32m     94\u001b[0m     \u001b[38;5;66;03m# I'm not really sure why we'd want to do that, but it's there.\u001b[39;00m\n\u001b[1;32m     95\u001b[0m     \u001b[38;5;28;01mwith\u001b[39;00m dsp\u001b[38;5;241m.\u001b[39msettings\u001b[38;5;241m.\u001b[39mcontext(lm\u001b[38;5;241m=\u001b[39m\u001b[38;5;28mself\u001b[39m\u001b[38;5;241m.\u001b[39mlm, query_only\u001b[38;5;241m=\u001b[39m\u001b[38;5;28;01mTrue\u001b[39;00m):\n",
      "File \u001b[0;32m~/.pyenv/versions/3.11.7/envs/llm/lib/python3.11/site-packages/dsp/primitives/predict.py:76\u001b[0m, in \u001b[0;36m_generate.<locals>.do_generate\u001b[0;34m(example, stage, max_depth, original_example)\u001b[0m\n\u001b[1;32m     73\u001b[0m example \u001b[38;5;241m=\u001b[39m example\u001b[38;5;241m.\u001b[39mdemos_at(\u001b[38;5;28;01mlambda\u001b[39;00m d: d[stage])\n\u001b[1;32m     75\u001b[0m \u001b[38;5;66;03m# Generate and extract the fields.\u001b[39;00m\n\u001b[0;32m---> 76\u001b[0m prompt \u001b[38;5;241m=\u001b[39m \u001b[43mtemplate\u001b[49m\u001b[43m(\u001b[49m\u001b[43mexample\u001b[49m\u001b[43m)\u001b[49m\n\u001b[1;32m     77\u001b[0m completions: \u001b[38;5;28mlist\u001b[39m[\u001b[38;5;28mdict\u001b[39m[\u001b[38;5;28mstr\u001b[39m, Any]] \u001b[38;5;241m=\u001b[39m generator(prompt, \u001b[38;5;241m*\u001b[39m\u001b[38;5;241m*\u001b[39mkwargs)\n\u001b[1;32m     78\u001b[0m completions: \u001b[38;5;28mlist\u001b[39m[Example] \u001b[38;5;241m=\u001b[39m [template\u001b[38;5;241m.\u001b[39mextract(example, p) \u001b[38;5;28;01mfor\u001b[39;00m p \u001b[38;5;129;01min\u001b[39;00m completions]\n",
      "File \u001b[0;32m~/.pyenv/versions/3.11.7/envs/llm/lib/python3.11/site-packages/dsp/templates/template_v2.py:266\u001b[0m, in \u001b[0;36mTemplateV2.__call__\u001b[0;34m(self, example, show_guidelines)\u001b[0m\n\u001b[1;32m    258\u001b[0m     parts \u001b[38;5;241m=\u001b[39m [\n\u001b[1;32m    259\u001b[0m         \u001b[38;5;28mself\u001b[39m\u001b[38;5;241m.\u001b[39minstructions,\n\u001b[1;32m    260\u001b[0m         \u001b[38;5;28mself\u001b[39m\u001b[38;5;241m.\u001b[39mguidelines(show_guidelines),\n\u001b[1;32m    261\u001b[0m         rdemos_and_query,\n\u001b[1;32m    262\u001b[0m     ]\n\u001b[1;32m    263\u001b[0m \u001b[38;5;28;01melif\u001b[39;00m \u001b[38;5;28mlen\u001b[39m(rdemos) \u001b[38;5;241m==\u001b[39m \u001b[38;5;241m0\u001b[39m:\n\u001b[1;32m    264\u001b[0m     parts \u001b[38;5;241m=\u001b[39m [\n\u001b[1;32m    265\u001b[0m         \u001b[38;5;28mself\u001b[39m\u001b[38;5;241m.\u001b[39minstructions,\n\u001b[0;32m--> 266\u001b[0m         \u001b[38;5;28;43mself\u001b[39;49m\u001b[38;5;241;43m.\u001b[39;49m\u001b[43mguidelines\u001b[49m\u001b[43m(\u001b[49m\u001b[43mshow_guidelines\u001b[49m\u001b[43m)\u001b[49m,\n\u001b[1;32m    267\u001b[0m         \u001b[38;5;241m*\u001b[39mademos,\n\u001b[1;32m    268\u001b[0m         query,\n\u001b[1;32m    269\u001b[0m     ]\n\u001b[1;32m    270\u001b[0m \u001b[38;5;28;01melse\u001b[39;00m:\n\u001b[1;32m    271\u001b[0m     parts \u001b[38;5;241m=\u001b[39m [\n\u001b[1;32m    272\u001b[0m         \u001b[38;5;28mself\u001b[39m\u001b[38;5;241m.\u001b[39minstructions,\n\u001b[1;32m    273\u001b[0m         rdemos,\n\u001b[0;32m   (...)\u001b[0m\n\u001b[1;32m    276\u001b[0m         query,\n\u001b[1;32m    277\u001b[0m     ]\n",
      "File \u001b[0;32m~/.pyenv/versions/3.11.7/envs/llm/lib/python3.11/site-packages/dsp/templates/template_v2.py:128\u001b[0m, in \u001b[0;36mTemplateV2.guidelines\u001b[0;34m(self, show_guidelines)\u001b[0m\n\u001b[1;32m    125\u001b[0m     example[field\u001b[38;5;241m.\u001b[39minput_variable] \u001b[38;5;241m=\u001b[39m field\u001b[38;5;241m.\u001b[39mdescription\n\u001b[1;32m    126\u001b[0m example\u001b[38;5;241m.\u001b[39maugmented \u001b[38;5;241m=\u001b[39m \u001b[38;5;28mself\u001b[39m\u001b[38;5;241m.\u001b[39m_has_augmented_guidelines()\n\u001b[0;32m--> 128\u001b[0m result \u001b[38;5;241m+\u001b[39m\u001b[38;5;241m=\u001b[39m \u001b[38;5;28;43mself\u001b[39;49m\u001b[38;5;241;43m.\u001b[39;49m\u001b[43mquery\u001b[49m\u001b[43m(\u001b[49m\u001b[43mexample\u001b[49m\u001b[43m)\u001b[49m\n\u001b[1;32m    129\u001b[0m \u001b[38;5;28;01mreturn\u001b[39;00m result\n",
      "File \u001b[0;32m~/.pyenv/versions/3.11.7/envs/llm/lib/python3.11/site-packages/dsp/templates/template_v2.py:105\u001b[0m, in \u001b[0;36mTemplateV2.query\u001b[0;34m(self, example, is_demo)\u001b[0m\n\u001b[1;32m    102\u001b[0m         \u001b[38;5;28;01massert\u001b[39;00m \u001b[38;5;28mtype\u001b[39m(x) \u001b[38;5;241m==\u001b[39m \u001b[38;5;28mstr\u001b[39m, \u001b[38;5;124mf\u001b[39m\u001b[38;5;124m\"\u001b[39m\u001b[38;5;124mNeed format_handler for \u001b[39m\u001b[38;5;132;01m{\u001b[39;00mfield\u001b[38;5;241m.\u001b[39minput_variable\u001b[38;5;132;01m}\u001b[39;00m\u001b[38;5;124m of type \u001b[39m\u001b[38;5;132;01m{\u001b[39;00m\u001b[38;5;28mtype\u001b[39m(x)\u001b[38;5;132;01m}\u001b[39;00m\u001b[38;5;124m\"\u001b[39m\n\u001b[1;32m    103\u001b[0m         \u001b[38;5;28;01mreturn\u001b[39;00m \u001b[38;5;124m\"\u001b[39m\u001b[38;5;124m \u001b[39m\u001b[38;5;124m\"\u001b[39m\u001b[38;5;241m.\u001b[39mjoin(x\u001b[38;5;241m.\u001b[39msplit())\n\u001b[0;32m--> 105\u001b[0m formatted_value \u001b[38;5;241m=\u001b[39m \u001b[43mformat_handler\u001b[49m\u001b[43m(\u001b[49m\u001b[43mexample\u001b[49m\u001b[43m[\u001b[49m\u001b[43mfield\u001b[49m\u001b[38;5;241;43m.\u001b[39;49m\u001b[43minput_variable\u001b[49m\u001b[43m]\u001b[49m\u001b[43m)\u001b[49m\n\u001b[1;32m    106\u001b[0m separator \u001b[38;5;241m=\u001b[39m \u001b[38;5;124m\"\u001b[39m\u001b[38;5;130;01m\\n\u001b[39;00m\u001b[38;5;124m\"\u001b[39m \u001b[38;5;28;01mif\u001b[39;00m field\u001b[38;5;241m.\u001b[39mseparator \u001b[38;5;241m==\u001b[39m \u001b[38;5;124m\"\u001b[39m\u001b[38;5;124m \u001b[39m\u001b[38;5;124m\"\u001b[39m \u001b[38;5;129;01mand\u001b[39;00m \u001b[38;5;124m\"\u001b[39m\u001b[38;5;130;01m\\n\u001b[39;00m\u001b[38;5;124m\"\u001b[39m \u001b[38;5;129;01min\u001b[39;00m formatted_value \u001b[38;5;28;01melse\u001b[39;00m field\u001b[38;5;241m.\u001b[39mseparator\n\u001b[1;32m    108\u001b[0m result\u001b[38;5;241m.\u001b[39mappend(\n\u001b[1;32m    109\u001b[0m     \u001b[38;5;124mf\u001b[39m\u001b[38;5;124m\"\u001b[39m\u001b[38;5;132;01m{\u001b[39;00mfield\u001b[38;5;241m.\u001b[39mname\u001b[38;5;132;01m}\u001b[39;00m\u001b[38;5;132;01m{\u001b[39;00mseparator\u001b[38;5;132;01m}\u001b[39;00m\u001b[38;5;132;01m{\u001b[39;00mformatted_value\u001b[38;5;132;01m}\u001b[39;00m\u001b[38;5;124m\"\u001b[39m,\n\u001b[1;32m    110\u001b[0m )\n",
      "\u001b[0;31mValueError\u001b[0m: dictionary update sequence element #0 has length 1; 2 is required"
     ]
    }
   ],
   "source": [
    "pred = uncompiled(test_dspy[0].review)"
   ]
  },
  {
   "cell_type": "markdown",
   "id": "92434e1c-9dbf-45ee-a5f5-7eb4382067b4",
   "metadata": {},
   "source": [
    "# DSPy with Backend"
   ]
  },
  {
   "cell_type": "code",
   "execution_count": 18,
   "id": "2b8643d5-0216-46c9-a653-c21645d33ce7",
   "metadata": {},
   "outputs": [],
   "source": [
    "model = \"kevinscaria/joint_tk-instruct-base-def-pos-neg-neut-restaurants\"\n"
   ]
  },
  {
   "cell_type": "code",
   "execution_count": 19,
   "id": "ba889809-7aac-4568-8609-393fa238db85",
   "metadata": {},
   "outputs": [
    {
     "data": {
      "text/plain": [
       "dspy.modeling.backends.json.JSONBackend"
      ]
     },
     "execution_count": 19,
     "metadata": {},
     "output_type": "execute_result"
    }
   ],
   "source": [
    "dspy.JSONBackend"
   ]
  },
  {
   "cell_type": "code",
   "execution_count": null,
   "id": "83d2c65f-e055-4ec3-9464-f94fb7a1a5d0",
   "metadata": {},
   "outputs": [],
   "source": []
  }
 ],
 "metadata": {
  "kernelspec": {
   "display_name": "Python 3 (ipykernel)",
   "language": "python",
   "name": "python3"
  },
  "language_info": {
   "codemirror_mode": {
    "name": "ipython",
    "version": 3
   },
   "file_extension": ".py",
   "mimetype": "text/x-python",
   "name": "python",
   "nbconvert_exporter": "python",
   "pygments_lexer": "ipython3",
   "version": "3.11.7"
  }
 },
 "nbformat": 4,
 "nbformat_minor": 5
}
